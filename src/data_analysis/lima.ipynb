{
 "cells": [
  {
   "cell_type": "code",
   "execution_count": null,
   "metadata": {},
   "outputs": [],
   "source": [
    "import pandas as pd\n",
    "import numpy as np\n",
    "import matplotlib.pyplot as plt\n",
    "import seaborn as sns\n",
    "import os\n",
    "\n",
    "# Carga de datos\n",
    "df = pd.read_csv(os.path.join('..', 'data', 'LIMA_CHOSICA.csv'))"
   ]
  }
 ],
 "metadata": {
  "kernelspec": {
   "display_name": "Python 3",
   "language": "python",
   "name": "python3"
  },
  "language_info": {
   "name": "python",
   "version": "3.10.4"
  },
  "orig_nbformat": 4,
  "vscode": {
   "interpreter": {
    "hash": "d025b842eb06ca9cd034b65c9cc4551fadacc5075bb19d5d7d591e6bf0512d7d"
   }
  }
 },
 "nbformat": 4,
 "nbformat_minor": 2
}
